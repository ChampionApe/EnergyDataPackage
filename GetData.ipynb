{
 "cells": [
  {
   "cell_type": "code",
   "execution_count": 1,
   "id": "c7a7f100-bbaf-4620-ad6f-37bbd1207947",
   "metadata": {
    "tags": []
   },
   "outputs": [],
   "source": [
    "%run stdPackages.ipynb"
   ]
  },
  {
   "cell_type": "markdown",
   "id": "43a7b54c-2db1-428a-8aa2-c89caae40092",
   "metadata": {},
   "source": [
    "# Download data from ENTSOE"
   ]
  },
  {
   "cell_type": "code",
   "execution_count": 2,
   "id": "6987b648-e49d-4a7f-9e74-f30bbe800a40",
   "metadata": {
    "tags": []
   },
   "outputs": [],
   "source": [
    "from entsoe.exceptions import NoMatchingDataError, InvalidBusinessParameterError, InvalidPSRTypeError\n",
    "client = EntsoePandasClient(api_key=entsoeToken, retry_count = 5, retry_delay = 5)"
   ]
  },
  {
   "cell_type": "markdown",
   "id": "20c08dee-61e7-43f6-8f08-a0592ba127f2",
   "metadata": {},
   "source": [
    "## 1. Settings"
   ]
  },
  {
   "cell_type": "markdown",
   "id": "083d9b71-c111-4325-a3a3-13c6385e9686",
   "metadata": {},
   "source": [
    "Notes:\n",
    "* Currently, we can only use 1 hour frequencies.\n",
    "* We can atmost query 1 year worth of data (per query)."
   ]
  },
  {
   "cell_type": "markdown",
   "id": "5f3895dc-72de-4e4a-8ecd-0a8458e64c42",
   "metadata": {},
   "source": [
    "Specify time horizon for download (```YYYYMMDD```):"
   ]
  },
  {
   "cell_type": "code",
   "execution_count": 3,
   "id": "95c77c73-857d-4c67-b595-c0481d518376",
   "metadata": {
    "tags": []
   },
   "outputs": [],
   "source": [
    "settings = {}\n",
    "settings['tz'] = 'Europe/Brussels'\n",
    "settings['tStart'] = {'year': '2023', 'month': '01', 'day': '01'}\n",
    "settings['tEnd'] = {'year': '2023', 'month': '01', 'day': '31'}\n",
    "start = pd.Timestamp(''.join(settings['tStart'].values()), tz='Europe/Brussels')\n",
    "end = pd.Timestamp(''.join(settings['tEnd'].values()), tz='Europe/Brussels')"
   ]
  },
  {
   "cell_type": "markdown",
   "id": "1ff8cf85-d91d-4a34-9f68-782fdfc7630d",
   "metadata": {},
   "source": [
    "Include bidding areas:"
   ]
  },
  {
   "cell_type": "code",
   "execution_count": 4,
   "id": "f715bb52-3c0c-4dc8-b6b4-8aafa8580d00",
   "metadata": {},
   "outputs": [],
   "source": [
    "g = entsoe.mappings.Area._member_names_.copy()"
   ]
  },
  {
   "cell_type": "markdown",
   "id": "6a15d6ac-a5d4-4839-8527-a16bec6c8698",
   "metadata": {},
   "source": [
    "*Load data from previous run:*"
   ]
  },
  {
   "cell_type": "code",
   "execution_count": 5,
   "id": "dd88e189-09cd-4935-aea7-3d31c11bcd8d",
   "metadata": {
    "tags": []
   },
   "outputs": [],
   "source": [
    "# files = ['dayAheadPrices', 'netPositions', 'crossBorderFlows', 'scheduledExchanges', 'NTC_DA', 'NTC_WA', 'NTC_MA', 'NTC_YA', 'NTC_ID']\n",
    "# filesDict = {}\n",
    "# for i in range(len(files)):\n",
    "#     with open(os.path.join(d['data'], f'FILE_{i}'), \"rb\") as file:\n",
    "#         filesDict[files[i]] = pickle.load(file)"
   ]
  },
  {
   "cell_type": "markdown",
   "id": "614b2c65-3e38-47eb-8dcc-af15678f1fb7",
   "metadata": {},
   "source": [
    "## 2. Get all data:"
   ]
  },
  {
   "cell_type": "markdown",
   "id": "f94e9875-5faa-498b-bb6e-1ce07ece3317",
   "metadata": {},
   "source": [
    "Store in dict. Store potential errors in separate dict to check later."
   ]
  },
  {
   "cell_type": "code",
   "execution_count": 5,
   "id": "e598be91-cb6b-4a16-9afa-2b73431cb6b4",
   "metadata": {
    "tags": []
   },
   "outputs": [],
   "source": [
    "f = {}"
   ]
  },
  {
   "cell_type": "markdown",
   "id": "aac45ca7-5ba5-491b-8070-d148dcf36ddd",
   "metadata": {},
   "source": [
    "## 2.1. Bidding-area data:"
   ]
  },
  {
   "cell_type": "markdown",
   "id": "9857500a-f0ee-437f-a1ed-831189405f72",
   "metadata": {},
   "source": [
    "*Day ahead prices: Unit €/MWh. Frequency unit 1 hour.* "
   ]
  },
  {
   "cell_type": "code",
   "execution_count": 6,
   "id": "66aa2413-ced8-490a-bc69-78a1a149b0e2",
   "metadata": {
    "tags": []
   },
   "outputs": [
    {
     "name": "stderr",
     "output_type": "stream",
     "text": [
      "Connection Error, retrying in 5 seconds\n"
     ]
    }
   ],
   "source": [
    "f['PriceDayAhead'] = dict.fromkeys(g)\n",
    "iterThrough = [k for k,v in f['PriceDayAhead'].items() if v is None]\n",
    "for k in iterThrough:\n",
    "    try:\n",
    "        f['PriceDayAhead'][k] = client.query_day_ahead_prices(k, start = start, end = end)\n",
    "    except NoMatchingDataError:\n",
    "        f['PriceDayAhead'].pop(k)"
   ]
  },
  {
   "cell_type": "markdown",
   "id": "1a03d7b2-536c-4e42-81fa-cde3642edc3b",
   "metadata": {},
   "source": [
    "*Net position: MW imbalance in day ahead market for area. Negative value indicates that an area requires imports to balance the system. Frequency 1 hour.*"
   ]
  },
  {
   "cell_type": "code",
   "execution_count": null,
   "id": "d63cea16-3012-471a-8a03-8f4125b5c24d",
   "metadata": {
    "tags": []
   },
   "outputs": [],
   "source": [
    "f['NetPosition'] = dict.fromkeys(g)\n",
    "iterThrough = [k for k,v in f['NetPosition'].items() if v is None]\n",
    "for k in iterThrough:\n",
    "    try:\n",
    "        f['NetPosition'][k] = client.query_net_position(k, start = start, end = end, dayahead = True)\n",
    "    except NoMatchingDataError:\n",
    "        f['NetPosition'].pop(k)"
   ]
  },
  {
   "cell_type": "markdown",
   "id": "0598c560-62e5-4aa3-ada0-5d8f23763ff0",
   "metadata": {},
   "source": [
    "## 2.2. Transfer capacities/trade stuff"
   ]
  },
  {
   "cell_type": "markdown",
   "id": "bd96f6ee-e8d4-4965-afd4-5105b4b869f5",
   "metadata": {},
   "source": [
    "**NOTE:** The different data on crossborder flows and net transfer capacities are not defined over the same set of areas. For instance:\n",
    "* Crossborder flows and scheduledExchanges are generally defined for the same tuples (g, g').\n",
    "* Net transfer capacities dayahead are defined over much fewer combinations (at least for 2024 data). This is also the case online - it is not an issue with the API calls. \n",
    "* Generally, the net transfer capacities for day-ahead, week-ahead, month-ahead, and year-head are all defined over different combinations. Once again, this is also the case for the data online."
   ]
  },
  {
   "cell_type": "markdown",
   "id": "cad4e820-5aec-4d92-9b73-fa2ac658d539",
   "metadata": {},
   "source": [
    "All combinations from \"neigbours\" mapping:"
   ]
  },
  {
   "cell_type": "code",
   "execution_count": null,
   "id": "bc1e7ffb-f46a-4825-9554-caa181bf4e6c",
   "metadata": {
    "tags": []
   },
   "outputs": [],
   "source": [
    "g2gg = [(k,v) for k in entsoe.mappings.NEIGHBOURS for v in entsoe.mappings.NEIGHBOURS[k]]"
   ]
  },
  {
   "cell_type": "markdown",
   "id": "dcb6468a-9c81-4efc-be20-3f6ee377d910",
   "metadata": {},
   "source": [
    "*Crossborder flows: MWh. Frequency unit 1 hour.* "
   ]
  },
  {
   "cell_type": "code",
   "execution_count": null,
   "id": "b495e6e2-22ce-491e-9e44-6117256bb7f4",
   "metadata": {
    "tags": []
   },
   "outputs": [],
   "source": [
    "f['CrossBorderFlows'] = dict.fromkeys(g2gg)\n",
    "for k in g2gg:\n",
    "    try:\n",
    "        f['CrossBorderFlows'][(k[0], k[1])] = client.query_crossborder_flows(k[0], k[1], start=start, end=end)\n",
    "    except (NoMatchingDataError, InvalidBusinessParameterError, InvalidPSRTypeError) as e:\n",
    "        f['CrossBorderFlows'].pop(k)"
   ]
  },
  {
   "cell_type": "markdown",
   "id": "7432d458-16a4-421c-b2c8-b59dae7bb88e",
   "metadata": {},
   "source": [
    "*Crossborder flows, expected: MWh. Frequency unit 1 hour.* "
   ]
  },
  {
   "cell_type": "code",
   "execution_count": null,
   "id": "9d3e72e5-7ebd-41e4-a9e8-b2f9f3f5c91e",
   "metadata": {
    "tags": []
   },
   "outputs": [],
   "source": [
    "f['ScheduleEx'] = dict.fromkeys(g2gg)\n",
    "for k in g2gg:\n",
    "    try:\n",
    "        f['ScheduleEx'][(k[0], k[1])] = client.query_crossborder_flows(k[0], k[1], start=start, end=end, dayahead = False)\n",
    "    except (NoMatchingDataError, InvalidBusinessParameterError, InvalidPSRTypeError) as e:\n",
    "        f['ScheduleEx'].pop(k)"
   ]
  },
  {
   "cell_type": "markdown",
   "id": "fe7105b1-c2f5-470b-8b50-67c9bcd53e08",
   "metadata": {},
   "source": [
    "*Net transfer capacity, day ahead:*"
   ]
  },
  {
   "cell_type": "code",
   "execution_count": null,
   "id": "e0cb7d20-5dd5-4aea-8efc-6185ff75a77e",
   "metadata": {
    "tags": []
   },
   "outputs": [],
   "source": [
    "f['NTC_DA'] = dict.fromkeys(g2gg)\n",
    "for k in g2gg:\n",
    "    try:\n",
    "        f['NTC_DA'][(k[0], k[1])] = client.query_net_transfer_capacity_dayahead(k[0], k[1], start=start, end=end)\n",
    "    except (NoMatchingDataError, InvalidBusinessParameterError, InvalidPSRTypeError) as e:\n",
    "        f['NTC_DA'].pop(k)"
   ]
  },
  {
   "cell_type": "markdown",
   "id": "97cb03f9-607b-40f2-9c69-647b848cbb10",
   "metadata": {},
   "source": [
    "*Net transfer capacity, week ahead:*"
   ]
  },
  {
   "cell_type": "code",
   "execution_count": null,
   "id": "54b23e4e-1a55-44f6-87b7-e9e7c5898aa3",
   "metadata": {
    "tags": []
   },
   "outputs": [],
   "source": [
    "f['NTC_WA'] = dict.fromkeys(g2gg)\n",
    "for k in g2gg:\n",
    "    try:\n",
    "        f['NTC_WA'][(k[0], k[1])] = client.query_net_transfer_capacity_weekahead(k[0], k[1], start=start, end=end)\n",
    "    except (NoMatchingDataError, InvalidBusinessParameterError, InvalidPSRTypeError) as e:\n",
    "        f['NTC_WA'].pop(k)"
   ]
  },
  {
   "cell_type": "markdown",
   "id": "23e12841-9ca0-49b6-b5cb-e8c241b722b2",
   "metadata": {},
   "source": [
    "*Net transfer capacity, month ahead:*"
   ]
  },
  {
   "cell_type": "code",
   "execution_count": null,
   "id": "5ad0d8bc-41b4-4a04-acff-dfbec0f7656c",
   "metadata": {
    "tags": []
   },
   "outputs": [],
   "source": [
    "f['NTC_MA'] = dict.fromkeys(g2gg)\n",
    "for k in g2gg:\n",
    "    try:\n",
    "        f['NTC_MA'][(k[0], k[1])] = client.query_net_transfer_capacity_monthahead(k[0], k[1], start=start, end=end)\n",
    "    except (NoMatchingDataError, InvalidBusinessParameterError, InvalidPSRTypeError) as e:\n",
    "        f['NTC_MA'].pop(k)"
   ]
  },
  {
   "cell_type": "markdown",
   "id": "a8333135-8848-49bb-9f29-8cb1a7e31a69",
   "metadata": {},
   "source": [
    "*Net transfer capacity, year ahead:*"
   ]
  },
  {
   "cell_type": "code",
   "execution_count": null,
   "id": "e3d7f7e8-0e94-463c-9ef2-bc3548311e8b",
   "metadata": {
    "tags": []
   },
   "outputs": [],
   "source": [
    "f['NTC_YA'] = dict.fromkeys(g2gg)\n",
    "for k in g2gg:\n",
    "    try:\n",
    "        f['NTC_YA'][(k[0], k[1])] = client.query_net_transfer_capacity_yearahead(k[0], k[1], start=start, end=end)\n",
    "    except (NoMatchingDataError, InvalidBusinessParameterError, InvalidPSRTypeError) as e:\n",
    "        f['NTC_YA'].pop(k)"
   ]
  },
  {
   "cell_type": "markdown",
   "id": "503027d9-49f8-434c-b9b9-e96419045617",
   "metadata": {},
   "source": [
    "*Offered capacity, intraday:*"
   ]
  },
  {
   "cell_type": "code",
   "execution_count": null,
   "id": "a20ee0ef-3560-4bb6-be48-33e422c751a3",
   "metadata": {
    "tags": []
   },
   "outputs": [],
   "source": [
    "storeExceptions = {}"
   ]
  },
  {
   "cell_type": "code",
   "execution_count": null,
   "id": "dedfe755-62c4-4c70-823d-37891da86058",
   "metadata": {
    "tags": []
   },
   "outputs": [],
   "source": [
    "f['NTC_ID'] = dict.fromkeys(g2gg)\n",
    "storeExceptions['NTC_ID'] = {}\n",
    "for k in g2gg:\n",
    "    try:\n",
    "        f['NTC_ID'][(k[0], k[1])] = client.query_intraday_offered_capacity(k[0], k[1], start=start, end=end, implicit=True)\n",
    "    except (NoMatchingDataError, InvalidBusinessParameterError, InvalidPSRTypeError) as e:\n",
    "        f['NTC_ID'].pop(k)\n",
    "    except Exception as e:\n",
    "        storeExceptions['NTC_ID'][k] = e\n",
    "        f['NTC_ID'].pop(k)"
   ]
  },
  {
   "cell_type": "markdown",
   "id": "4332948e-8c2b-45d7-b1b5-6fdd32828b41",
   "metadata": {},
   "source": [
    "*Offered capacity:*"
   ]
  },
  {
   "cell_type": "code",
   "execution_count": null,
   "id": "393e8dc3-83a9-41bc-aef4-89896d0f381e",
   "metadata": {
    "tags": []
   },
   "outputs": [],
   "source": [
    "f['NTC'] = dict.fromkeys(g2gg)\n",
    "storeExceptions['NTC'] = {}\n",
    "for k in g2gg:\n",
    "    try:\n",
    "        f['NTC'][(k[0], k[1])] = client.query_offered_capacity(k[0], k[1],\"A01\", start=start, end=end, implicit=True)\n",
    "    except (NoMatchingDataError, InvalidBusinessParameterError, InvalidPSRTypeError) as e:\n",
    "        f['NTC'].pop(k)\n",
    "    except Exception as e:\n",
    "        storeExceptions['NTC'][k] = e\n",
    "        f['NTC'].pop(k)"
   ]
  },
  {
   "cell_type": "markdown",
   "id": "b4357594-332d-4fe3-89e9-17a55ab4e3b9",
   "metadata": {},
   "source": [
    "*Water reservoirs for hydro storage (agg):*"
   ]
  },
  {
   "cell_type": "code",
   "execution_count": null,
   "id": "35c5a9da-6f53-44a5-ad6a-1007a41913f0",
   "metadata": {
    "tags": []
   },
   "outputs": [],
   "source": [
    "f['WaterRes'] = dict.fromkeys(g)\n",
    "storeExceptions['WaterRes'] = {}\n",
    "for k in g:\n",
    "    try:\n",
    "        f['WaterRes'][k] = client.query_aggregate_water_reservoirs_and_hydro_storage(k, start = start, end = end)\n",
    "    except (NoMatchingDataError, InvalidBusinessParameterError, InvalidPSRTypeError) as e:\n",
    "        f['WaterRes'].pop(k)\n",
    "    except Exception as e:\n",
    "        storeExceptions['WaterRes'][k] = e\n",
    "        f['WaterRes'].pop(k)"
   ]
  },
  {
   "cell_type": "markdown",
   "id": "af4acbc5-882a-4776-8190-e634c330b73c",
   "metadata": {},
   "source": [
    "Store:"
   ]
  },
  {
   "cell_type": "code",
   "execution_count": null,
   "id": "b6bc9baa-2442-48b7-b035-4dbc71a2b953",
   "metadata": {
    "tags": []
   },
   "outputs": [],
   "source": [
    "with open(os.path.join(d['data'], 'test'), \"wb\") as file:\n",
    "    pickle.dump(f, file)"
   ]
  }
 ],
 "metadata": {
  "kernelspec": {
   "display_name": "Python 3 (ipykernel)",
   "language": "python",
   "name": "python3"
  },
  "language_info": {
   "codemirror_mode": {
    "name": "ipython",
    "version": 3
   },
   "file_extension": ".py",
   "mimetype": "text/x-python",
   "name": "python",
   "nbconvert_exporter": "python",
   "pygments_lexer": "ipython3",
   "version": "3.11.3"
  }
 },
 "nbformat": 4,
 "nbformat_minor": 5
}
