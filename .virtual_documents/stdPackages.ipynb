import warnings
warnings.simplefilter(action='ignore', category=FutureWarning)
import os, pandas as pd, numpy as np, pickle, math, pyDbs, scipy
from scipy import optimize, sparse, stats
from importlib.metadata import version
from IPython.display import IFrame
_repo = 'EnergyDataPackage'
d = {'main': os.path.join(os.getcwd().split(_repo,1)[0],_repo),
     'curr': os.getcwd()}
d.update({'py': os.path.join(d['main'], 'py'),
          'data': os.path.join(d['main'], 'Data')})


os.environ.get('ENTSOETOKEN')


APITOKEN = 





import matplotlib as mpl, matplotlib.pyplot as plt, seaborn
from matplotlib import cm
from matplotlib.ticker import LinearLocator
# %matplotlib inline
matplotlibVersion = version('matplotlib').split('.')
if (int(matplotlibVersion[1])>5) & (int(matplotlibVersion[0]) == 3):
    plt.style.use('seaborn-v0_8-whitegrid')
    mpl.style.use('seaborn-v0_8')
else:
    plt.style.use('seaborn-whitegrid')
    mpl.style.use('seaborn')
plt.rcParams['font.family'] = 'Palatino Linotype'
prop_cycle = plt.rcParams["axes.prop_cycle"]
colors = prop_cycle.by_key()["color"]
long_colors = ['#1f78b4','#a6cee3','#b2df8a','#33a02c','#fb9a99','#e31a1c','#fdbf6f','#ff7f00','#cab2d6','#6a3d9a','#ffff99','#b15928']
